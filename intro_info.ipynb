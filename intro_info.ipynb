{
 "cells": [
  {
   "cell_type": "code",
   "execution_count": 1,
   "id": "e50538c0-e85d-4cec-af0b-e85d48983876",
   "metadata": {},
   "outputs": [],
   "source": [
    "import pandas as pd\n",
    "import numpy as np\n"
   ]
  },
  {
   "cell_type": "code",
   "execution_count": 2,
   "id": "00aec93b-2a1f-4d62-8d0a-a86d0b418bf5",
   "metadata": {},
   "outputs": [],
   "source": [
    "raw_df = pd.read_csv('data/weatherAUS.csv')\n",
    "raw_df.dropna(subset=['RainTomorrow'], inplace=True)"
   ]
  },
  {
   "cell_type": "code",
   "execution_count": 19,
   "id": "b1d3e5c3-9aa7-453b-8bc6-c3316daebe08",
   "metadata": {},
   "outputs": [
    {
     "name": "stdout",
     "output_type": "stream",
     "text": [
      "        Location RainTomorrow_Yes_Percentage Humidity3pm_No Humidity3pm_Yes  \\\n",
      "0       Adelaide                       22.27          40.26            60.7   \n",
      "1         Albany                       29.91          65.43            72.0   \n",
      "2         Albury                       20.52          43.17           66.23   \n",
      "3   AliceSprings                        8.05           21.4           54.74   \n",
      "4  BadgerysCreek                       19.91          46.57           71.14   \n",
      "\n",
      "  Pressure3pm_No Pressure3pm_Yes MinTemp_No MinTemp_Yes MaxTemp_No MaxTemp_Yes  \n",
      "0        1017.99         1012.53      12.73       12.27      23.93        19.5  \n",
      "1        1018.17         1012.61      13.34       12.04      20.57       18.92  \n",
      "2        1016.85         1011.48       9.29       10.42      23.42       19.58  \n",
      "3        1013.23         1008.94      12.64       18.64      29.31       28.48  \n",
      "4        1015.83         1014.85      10.51       13.67       24.3       22.91  \n"
     ]
    }
   ],
   "source": [
    "# 1. Convert RainTomorrow to boolean\n",
    "raw_df['RainTomorrow_bool'] = (raw_df['RainTomorrow'] == 'Yes').astype(int)\n",
    "\n",
    "# 2. Percentage of RainTomorrow = Yes\n",
    "rain_percentage = raw_df.groupby('Location')['RainTomorrow_bool'].mean() * 100\n",
    "\n",
    "# 3. Compute averages of features split by RainTomorrow\n",
    "features = ['Humidity3pm', 'Pressure3pm', 'MinTemp', 'MaxTemp']\n",
    "averages = (\n",
    "    raw_df.groupby(['Location', 'RainTomorrow'])[features]\n",
    "      .mean()\n",
    "      .unstack()   # Creates separate Yes/No columns\n",
    ")\n",
    "\n",
    "# Rename columns for clarity\n",
    "averages.columns = [f\"{col}_{val}\" for col, val in averages.columns]\n",
    "\n",
    "# 4. Combine everything into one DataFrame\n",
    "result = pd.concat([rain_percentage, averages], axis=1).reset_index()\n",
    "\n",
    "# Rename RainTomorrow percentage column\n",
    "result.rename(columns={'RainTomorrow_bool': 'RainTomorrow_Yes_Percentage'}, inplace=True)\n",
    "\n",
    "# Round for readability\n",
    "result = result.round(2)\n",
    "\n",
    "# Compute totals across all locations\n",
    "total_rain_percentage = raw_df['RainTomorrow_bool'].mean() * 100\n",
    "total_avgs = (\n",
    "    raw_df.groupby('RainTomorrow')[features]\n",
    "      .mean()\n",
    "      .unstack()\n",
    ")\n",
    "\n",
    "# Flatten columns\n",
    "total_avgs.index = [f\"{col}_{val}\" for col, val in total_avgs.index]\n",
    "\n",
    "# Combine into single Series\n",
    "total_row = pd.concat([pd.Series({'Location': 'TOTAL',\n",
    "                                  'RainTomorrow_Yes_Percentage': total_rain_percentage}),\n",
    "                       total_avgs])\n",
    "\n",
    "# Append to result\n",
    "result_with_total = pd.concat([result, total_row.to_frame().T], ignore_index=True)\n",
    "\n",
    "# Round values\n",
    "result_with_total = result_with_total.round(2)\n",
    "\n",
    "print(result_with_total.head())"
   ]
  },
  {
   "cell_type": "code",
   "execution_count": 20,
   "id": "cc8b35cb-da75-4c33-aa1a-835d511f88ca",
   "metadata": {},
   "outputs": [
    {
     "data": {
      "text/plain": [
       "count    128212.000000\n",
       "mean       1015.258204\n",
       "std           7.036677\n",
       "min         977.100000\n",
       "25%        1010.400000\n",
       "50%        1015.200000\n",
       "75%        1020.000000\n",
       "max        1039.600000\n",
       "Name: Pressure3pm, dtype: float64"
      ]
     },
     "execution_count": 20,
     "metadata": {},
     "output_type": "execute_result"
    }
   ],
   "source": [
    "raw_df.Pressure3pm.describe()"
   ]
  },
  {
   "cell_type": "code",
   "execution_count": 21,
   "id": "31a09ef0-c7c3-40a5-aee6-3f4609c3a8f2",
   "metadata": {},
   "outputs": [
    {
     "data": {
      "text/plain": [
       "Index(['Date', 'Location', 'MinTemp', 'MaxTemp', 'Rainfall', 'Evaporation',\n",
       "       'Sunshine', 'WindGustDir', 'WindGustSpeed', 'WindDir9am', 'WindDir3pm',\n",
       "       'WindSpeed9am', 'WindSpeed3pm', 'Humidity9am', 'Humidity3pm',\n",
       "       'Pressure9am', 'Pressure3pm', 'Cloud9am', 'Cloud3pm', 'Temp9am',\n",
       "       'Temp3pm', 'RainToday', 'RainTomorrow', 'RainTomorrow_code',\n",
       "       'RainToday_code', 'RainTomorrow_bool'],\n",
       "      dtype='object')"
      ]
     },
     "execution_count": 21,
     "metadata": {},
     "output_type": "execute_result"
    }
   ],
   "source": [
    "raw_df.columns"
   ]
  },
  {
   "cell_type": "code",
   "execution_count": null,
   "id": "6f3c08f0-588b-48fe-8035-a813e5ba17ec",
   "metadata": {},
   "outputs": [],
   "source": []
  }
 ],
 "metadata": {
  "kernelspec": {
   "display_name": "Python 3 (ipykernel)",
   "language": "python",
   "name": "python3"
  },
  "language_info": {
   "codemirror_mode": {
    "name": "ipython",
    "version": 3
   },
   "file_extension": ".py",
   "mimetype": "text/x-python",
   "name": "python",
   "nbconvert_exporter": "python",
   "pygments_lexer": "ipython3",
   "version": "3.13.7"
  }
 },
 "nbformat": 4,
 "nbformat_minor": 5
}
